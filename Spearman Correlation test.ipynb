{
 "cells": [
  {
   "cell_type": "markdown",
   "id": "b0c0bcb0",
   "metadata": {},
   "source": [
    "# Test for two samples non-normal and independent"
   ]
  },
  {
   "cell_type": "markdown",
   "id": "1038b35b",
   "metadata": {},
   "source": [
    "### First - Import the libraries"
   ]
  },
  {
   "cell_type": "code",
   "execution_count": 1,
   "id": "f62625c4",
   "metadata": {},
   "outputs": [],
   "source": [
    "import scipy.stats as stats\n",
    "import pandas as pd\n",
    "import numpy as np\n",
    "from scipy.stats import mstats"
   ]
  },
  {
   "cell_type": "markdown",
   "id": "920eefd3",
   "metadata": {},
   "source": [
    "### Second - import the data"
   ]
  },
  {
   "cell_type": "code",
   "execution_count": 19,
   "id": "145345b3",
   "metadata": {},
   "outputs": [
    {
     "name": "stdout",
     "output_type": "stream",
     "text": [
      "      A    B\n",
      "0    50  959\n",
      "1    59  955\n",
      "2    55  953\n",
      "3    54  952\n",
      "4    53  957\n",
      "..   ..  ...\n",
      "151  56  950\n",
      "152  58  960\n",
      "153  56  958\n",
      "154  52  951\n",
      "155  50  952\n",
      "\n",
      "[156 rows x 2 columns]\n"
     ]
    }
   ],
   "source": [
    "df = pd.read_csv('data_NNormal.csv')\n",
    "print(df)"
   ]
  },
  {
   "cell_type": "markdown",
   "id": "a0b4cef4",
   "metadata": {},
   "source": [
    "### Third - Test the Normality of samples"
   ]
  },
  {
   "cell_type": "code",
   "execution_count": 20,
   "id": "1212717d",
   "metadata": {},
   "outputs": [],
   "source": [
    "a = df['A']\n",
    "b = df['B']"
   ]
  },
  {
   "cell_type": "markdown",
   "id": "9d60bd9e",
   "metadata": {},
   "source": [
    "### Column A"
   ]
  },
  {
   "cell_type": "code",
   "execution_count": 21,
   "id": "fa1b43b1",
   "metadata": {},
   "outputs": [
    {
     "name": "stdout",
     "output_type": "stream",
     "text": [
      "54.36538461538461\n",
      "3.297408730996277\n"
     ]
    }
   ],
   "source": [
    "average_a = np.mean(a)\n",
    "print(average_a)\n",
    "standard_deviation_a = np.std(a-1)\n",
    "print(standard_deviation_a)"
   ]
  },
  {
   "cell_type": "code",
   "execution_count": 22,
   "id": "95f2bd28",
   "metadata": {},
   "outputs": [
    {
     "name": "stdout",
     "output_type": "stream",
     "text": [
      "0.12239419829554571\n",
      "0.017049911825335846\n"
     ]
    }
   ],
   "source": [
    "test_value_a, p_value_a = stats.kstest(a, cdf='norm', args=(average_a, standard_deviation_a), N=len(a))\n",
    "print(test_value_a)\n",
    "print(p_value_a)"
   ]
  },
  {
   "cell_type": "code",
   "execution_count": 23,
   "id": "952afabc",
   "metadata": {},
   "outputs": [
    {
     "name": "stdout",
     "output_type": "stream",
     "text": [
      "The test presented with 95% confidence that the data did not behave like a normal distribution.\n"
     ]
    }
   ],
   "source": [
    "if p_value_a > 0.05:\n",
    "    print(\"The test presented with 95% confidence that the data behaved like a normal distribution.\")\n",
    "else:\n",
    "    print(\"The test presented with 95% confidence that the data did not behave like a normal distribution.\")"
   ]
  },
  {
   "cell_type": "markdown",
   "id": "2ba7ff64",
   "metadata": {},
   "source": [
    "### Column B"
   ]
  },
  {
   "cell_type": "code",
   "execution_count": 24,
   "id": "f9f5f323",
   "metadata": {},
   "outputs": [
    {
     "name": "stdout",
     "output_type": "stream",
     "text": [
      "955.224358974359\n",
      "3.2494057009857844\n"
     ]
    }
   ],
   "source": [
    "average_b = np.mean(b)\n",
    "print(average_b)\n",
    "standard_deviation_b = np.std(b-1)\n",
    "print(standard_deviation_b)"
   ]
  },
  {
   "cell_type": "code",
   "execution_count": 25,
   "id": "197bb713",
   "metadata": {},
   "outputs": [
    {
     "name": "stdout",
     "output_type": "stream",
     "text": [
      "0.10814097246430154\n",
      "0.04821200315092489\n"
     ]
    }
   ],
   "source": [
    "test_value_b, p_value_b = stats.kstest(b, cdf='norm', args=(average_b, standard_deviation_b), N=len(b))\n",
    "print(test_value_b)\n",
    "print(p_value_b)"
   ]
  },
  {
   "cell_type": "code",
   "execution_count": 26,
   "id": "f2f5dfd2",
   "metadata": {},
   "outputs": [
    {
     "name": "stdout",
     "output_type": "stream",
     "text": [
      "The test presented with 95% confidence that the data did not behave like a normal distribution.\n"
     ]
    }
   ],
   "source": [
    "if p_value_b > 0.05:\n",
    "    print(\"The test presented with 95% confidence that the data behaved like a normal distribution.\")\n",
    "else:\n",
    "    print(\"The test presented with 95% confidence that the data did not behave like a normal distribution.\")"
   ]
  },
  {
   "cell_type": "markdown",
   "id": "7100a2e6",
   "metadata": {},
   "source": [
    "### Fourth - Do the Spearman test "
   ]
  },
  {
   "cell_type": "code",
   "execution_count": 28,
   "id": "41cb23d6",
   "metadata": {},
   "outputs": [
    {
     "name": "stdout",
     "output_type": "stream",
     "text": [
      "The test value Pearson Correlation = 0.020931930959359666\n",
      "p value of Pearson Correlation = 0.7953532304701982\n"
     ]
    }
   ],
   "source": [
    "rs_value, p_value_Spearman = stats.mstats.spearmanr(a, b)\n",
    "print (\"The test value Pearson Correlation = \" + str(rs_value))\n",
    "print (\"p value of Pearson Correlation = \" + str(p_value_Spearman))"
   ]
  },
  {
   "cell_type": "markdown",
   "id": "f604df7a",
   "metadata": {},
   "source": [
    "### Conclusion"
   ]
  },
  {
   "cell_type": "code",
   "execution_count": 29,
   "id": "6f638d88",
   "metadata": {},
   "outputs": [
    {
     "name": "stdout",
     "output_type": "stream",
     "text": [
      "Since the p-value was above 0.05, we must accept the null hypothesis and reject the alternative hypothesis.\n"
     ]
    }
   ],
   "source": [
    "if p_value_Spearman < 0.05:\n",
    "    print(\"As the p-value was below 0.05, we must reject the null hypothesis and accept the hypothesis alternative.\")\n",
    "else:\n",
    "    print(\"Since the p-value was above 0.05, we must accept the null hypothesis and reject the alternative hypothesis.\")"
   ]
  },
  {
   "cell_type": "code",
   "execution_count": null,
   "id": "d7420a25",
   "metadata": {},
   "outputs": [],
   "source": []
  }
 ],
 "metadata": {
  "kernelspec": {
   "display_name": "Python 3 (ipykernel)",
   "language": "python",
   "name": "python3"
  },
  "language_info": {
   "codemirror_mode": {
    "name": "ipython",
    "version": 3
   },
   "file_extension": ".py",
   "mimetype": "text/x-python",
   "name": "python",
   "nbconvert_exporter": "python",
   "pygments_lexer": "ipython3",
   "version": "3.9.7"
  }
 },
 "nbformat": 4,
 "nbformat_minor": 5
}
